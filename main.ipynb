{
 "nbformat": 4,
 "nbformat_minor": 2,
 "metadata": {
  "language_info": {
   "name": "python",
   "codemirror_mode": {
    "name": "ipython",
    "version": 3
   },
   "version": "3.7.3"
  },
  "orig_nbformat": 2,
  "file_extension": ".py",
  "mimetype": "text/x-python",
  "name": "python",
  "npconvert_exporter": "python",
  "pygments_lexer": "ipython3",
  "version": 3
 },
 "cells": [
  {
   "cell_type": "code",
   "execution_count": null,
   "metadata": {},
   "outputs": [],
   "source": [
    "# preprocess\n",
    "import preprocess\n",
    "preprocess.word_segment('process/train_data_remove_spell.txt','process/train_data_remove_spell_words.csv')\n",
    "preprocess.word_segment('process/test_data_remove_spell.txt','process/test_data_remove_spell_words.csv')"
   ]
  },
  {
   "cell_type": "code",
   "execution_count": 4,
   "metadata": {},
   "outputs": [
    {
     "name": "stdout",
     "output_type": "stream",
     "text": "10000\n0\n"
    }
   ],
   "source": [
    "# load training data, testing data\n",
    "import preprocess\n",
    "train_x = preprocess.load_word_segment('process/train_data_remove_spell_words.csv')\n",
    "test_y = preprocess.load_word_segment('process/test_data_remove_spell_words.csv')\n",
    "\n",
    "def load_one_label(input_path):\n",
    "    labels = None\n",
    "    with open(input_path, mode='r',encoding='utf-8') as f:\n",
    "        labels = [int(label.strip()) for label in f.readlines()]\n",
    "    return labels\n",
    "\n",
    "train_y = load_one_label('process/train_labels.txt')"
   ]
  },
  {
   "cell_type": "code",
   "execution_count": null,
   "metadata": {},
   "outputs": [
    {
     "evalue": "Error: Failed to connect to Jupyter notebook. \r\nhttp://localhost:8888/\r\nError: Invalid response: 500 Internal Server Error",
     "output_type": "error"
    }
   ],
   "source": [
    "import pickle\n",
    "def save_model(file_path, model):\n",
    "    with open(file_path, 'wb') as f:\n",
    "        pickle.dump(model, f)\n",
    "\n",
    "def load_model(file_path):\n",
    "    model = None\n",
    "    with open(file_path, 'rb') as f:\n",
    "        model = pickle.load(f)\n",
    "    return model"
   ]
  },
  {
   "cell_type": "code",
   "execution_count": null,
   "metadata": {},
   "outputs": [],
   "source": [
    "def get_model_name(prefix, params):\n",
    "    name = prefix\n",
    "    for param in sorted(params.items(), key=lambda pair:pair[0]):\n",
    "        name += \"_\" + param[0] + \"_\" + str(param[1])\n",
    "    name += \".bin\"\n",
    "    return name"
   ]
  },
  {
   "cell_type": "code",
   "execution_count": 1,
   "metadata": {},
   "outputs": [],
   "source": [
    "# word2vec\n",
    "import os\n",
    "from gensim.models import Word2Vec\n",
    "\n",
    "wv_params = {\"iter\":10, \"min_count\":20,\"size\":20}\n",
    "\n",
    "model_path = \"bin/\" + get_model_name('wv',wv_params)\n",
    "\n",
    "start_time = time.time()\n",
    "if os.path.exists(model_path):\n",
    "    word2vec_model = load_model(model_path)\n",
    "else:\n",
    "    word2vec_model = Word2Vec(train_x, **wv_params)\n",
    "    save_model(model_path, word2vec_model)\n",
    "used_time = time.time() - start_time\n",
    "print(u'Initialization of building word2vec model: %.3fs' %used_time)"
   ]
  },
  {
   "cell_type": "code",
   "execution_count": null,
   "metadata": {},
   "outputs": [],
   "source": [
    "import numpy as np\n",
    "\n",
    "def words_to_vector(words, word2vec_model):\n",
    "    vector_list = [word2vec_model.wv[k] for k in words if k in word2vec_model]\n",
    "    return np.array(vector_list).mean(axis=0)\n",
    "\n",
    "def word2vec(words_list, word2vec_model):\n",
    "    vec_list = [words_to_vector(words) for words in words_list]\n",
    "    return np.array(vec_list)"
   ]
  },
  {
   "cell_type": "code",
   "execution_count": null,
   "metadata": {},
   "outputs": [],
   "source": [
    "wv_train_x = word2vec(train_x, word2vec_model)"
   ]
  }
 ]
}